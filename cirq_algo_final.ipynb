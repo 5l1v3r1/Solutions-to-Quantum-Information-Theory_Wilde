{
  "nbformat": 4,
  "nbformat_minor": 0,
  "metadata": {
    "colab": {
      "name": "cirq_algo_final.ipynb",
      "version": "0.3.2",
      "provenance": [],
      "collapsed_sections": [],
      "include_colab_link": true
    },
    "kernelspec": {
      "name": "python3",
      "display_name": "Python 3"
    }
  },
  "cells": [
    {
      "cell_type": "markdown",
      "metadata": {
        "id": "view-in-github",
        "colab_type": "text"
      },
      "source": [
        "<a href=\"https://colab.research.google.com/github/yquek/Solutions-to-Quantum-Information-Theory_Wilde/blob/master/cirq_algo_final.ipynb\" target=\"_parent\"><img src=\"https://colab.research.google.com/assets/colab-badge.svg\" alt=\"Open In Colab\"/></a>"
      ]
    },
    {
      "metadata": {
        "id": "ANTk0LtJQ9pA",
        "colab_type": "code",
        "outputId": "d9782e06-4da0-447a-f075-8f87c2ffa7ac",
        "colab": {
          "base_uri": "https://localhost:8080/",
          "height": 493
        }
      },
      "cell_type": "code",
      "source": [
        "!pip install cirq \n",
        "import cirq\n",
        "import numpy as np\n",
        "import math\n",
        "import random\n",
        "from cirq import Simulator\n",
        "simulator = Simulator()"
      ],
      "execution_count": 0,
      "outputs": [
        {
          "output_type": "stream",
          "text": [
            "Requirement already satisfied: cirq in /usr/local/lib/python3.6/dist-packages (0.4.0)\n",
            "Requirement already satisfied: scipy in /usr/local/lib/python3.6/dist-packages (from cirq) (1.1.0)\n",
            "Requirement already satisfied: google-api-python-client~=1.6 in /usr/local/lib/python3.6/dist-packages (from cirq) (1.6.7)\n",
            "Requirement already satisfied: networkx~=2.1 in /usr/local/lib/python3.6/dist-packages (from cirq) (2.2)\n",
            "Requirement already satisfied: sortedcontainers~=2.0 in /usr/local/lib/python3.6/dist-packages (from cirq) (2.1.0)\n",
            "Requirement already satisfied: matplotlib~=2.2 in /usr/local/lib/python3.6/dist-packages (from cirq) (2.2.4)\n",
            "Requirement already satisfied: protobuf~=3.5 in /usr/local/lib/python3.6/dist-packages (from cirq) (3.7.0)\n",
            "Requirement already satisfied: requests~=2.18 in /usr/local/lib/python3.6/dist-packages (from cirq) (2.18.4)\n",
            "Requirement already satisfied: typing-extensions in /usr/local/lib/python3.6/dist-packages (from cirq) (3.7.2)\n",
            "Requirement already satisfied: numpy~=1.12 in /usr/local/lib/python3.6/dist-packages (from cirq) (1.14.6)\n",
            "Requirement already satisfied: uritemplate<4dev,>=3.0.0 in /usr/local/lib/python3.6/dist-packages (from google-api-python-client~=1.6->cirq) (3.0.0)\n",
            "Requirement already satisfied: oauth2client<5.0.0dev,>=1.5.0 in /usr/local/lib/python3.6/dist-packages (from google-api-python-client~=1.6->cirq) (4.1.3)\n",
            "Requirement already satisfied: httplib2<1dev,>=0.9.2 in /usr/local/lib/python3.6/dist-packages (from google-api-python-client~=1.6->cirq) (0.11.3)\n",
            "Requirement already satisfied: six<2dev,>=1.6.1 in /usr/local/lib/python3.6/dist-packages (from google-api-python-client~=1.6->cirq) (1.11.0)\n",
            "Requirement already satisfied: decorator>=4.3.0 in /usr/local/lib/python3.6/dist-packages (from networkx~=2.1->cirq) (4.4.0)\n",
            "Requirement already satisfied: pytz in /usr/local/lib/python3.6/dist-packages (from matplotlib~=2.2->cirq) (2018.9)\n",
            "Requirement already satisfied: cycler>=0.10 in /usr/local/lib/python3.6/dist-packages (from matplotlib~=2.2->cirq) (0.10.0)\n",
            "Requirement already satisfied: kiwisolver>=1.0.1 in /usr/local/lib/python3.6/dist-packages (from matplotlib~=2.2->cirq) (1.0.1)\n",
            "Requirement already satisfied: pyparsing!=2.0.4,!=2.1.2,!=2.1.6,>=2.0.1 in /usr/local/lib/python3.6/dist-packages (from matplotlib~=2.2->cirq) (2.3.1)\n",
            "Requirement already satisfied: python-dateutil>=2.1 in /usr/local/lib/python3.6/dist-packages (from matplotlib~=2.2->cirq) (2.5.3)\n",
            "Requirement already satisfied: setuptools in /usr/local/lib/python3.6/dist-packages (from protobuf~=3.5->cirq) (40.8.0)\n",
            "Requirement already satisfied: idna<2.7,>=2.5 in /usr/local/lib/python3.6/dist-packages (from requests~=2.18->cirq) (2.6)\n",
            "Requirement already satisfied: chardet<3.1.0,>=3.0.2 in /usr/local/lib/python3.6/dist-packages (from requests~=2.18->cirq) (3.0.4)\n",
            "Requirement already satisfied: urllib3<1.23,>=1.21.1 in /usr/local/lib/python3.6/dist-packages (from requests~=2.18->cirq) (1.22)\n",
            "Requirement already satisfied: certifi>=2017.4.17 in /usr/local/lib/python3.6/dist-packages (from requests~=2.18->cirq) (2019.3.9)\n",
            "Requirement already satisfied: rsa>=3.1.4 in /usr/local/lib/python3.6/dist-packages (from oauth2client<5.0.0dev,>=1.5.0->google-api-python-client~=1.6->cirq) (4.0)\n",
            "Requirement already satisfied: pyasn1-modules>=0.0.5 in /usr/local/lib/python3.6/dist-packages (from oauth2client<5.0.0dev,>=1.5.0->google-api-python-client~=1.6->cirq) (0.2.4)\n",
            "Requirement already satisfied: pyasn1>=0.1.7 in /usr/local/lib/python3.6/dist-packages (from oauth2client<5.0.0dev,>=1.5.0->google-api-python-client~=1.6->cirq) (0.4.5)\n"
          ],
          "name": "stdout"
        }
      ]
    },
    {
      "metadata": {
        "id": "s5CLFWhqU0g-",
        "colab_type": "text"
      },
      "cell_type": "markdown",
      "source": [
        "# A Quantum Neural Network\n",
        "\n",
        "Our goal will be to demonstrate a quantum circuit that can learn to implement an unknown binary-valued function, $\\ell(z) \\in \\{0,1\\}$,  on an input bitstring, $z = z_1z_2\\ldots z_n$. This circuit shall be called a 'quantum neural network'.\n",
        "\n",
        "The input to our quantum neural network will be the bitstring $z$ represented as a string of qubits, i.e. $z \\rightarrow |z\\rangle$. In addition, there will be at the input a  'readout qubit' initially set to $|0\\rangle$. \n",
        "\n",
        "The quantum circuit consists of some unitaries, each controlled by some subset of input qubits and acting on some subset of input qubits, with parameters $\\vec{\\theta}$ that the training process will tune. By tuning the parameters by gradient descent on some training examples, whose labels are given by the function the network is to learn, the network should learn that function. \n",
        "\n",
        "To get ONE label estimate on ONE training example, we need to run the circuit multiple times. After each run of the circuit, we make a Pauli 'Y' measurement on the readout qubit, which will return the scalar $r \\in \\{-1,1\\}$. Finally, we average the results of multiple measurements. This constitutes the neural network's current estimate of the label $\\hat{\\ell}(z_\\text{input})$. \n",
        "\n",
        "Please click on the following link for a diagram of the \n",
        "[Quantum Neural Network](https://drive.google.com/open?id=1KANnVZKGKtwQIkUG9RM6FPMCHFCkdAXM). \n",
        "\n",
        "We will concentrate on learning one particular function: the subset parity function. Here it will be more convenient to consider the bits as $0,1$-valued (rather than $+1,-1$ valued), using the mapping $b_i = \\frac{1}{2} (1-z_i)$. Hence the input bitstring will be $b = b_1b_2\\ldots b_n, \\qquad b_i \\in \\{0,1\\}$."
      ]
    },
    {
      "metadata": {
        "id": "Rm0LCyemfAMp",
        "colab_type": "text"
      },
      "cell_type": "markdown",
      "source": [
        "# Part I: The model works in principle\n",
        "\n",
        "We will first show that, *in principle*, there exists a set of unitaries that implements any desired function $\\ell(z)$, such that the above model of a neural network returns the correct result (that is, the expected value of the final Pauli measurement is always the correct output, $\\ell(z)$). One may wonder if this proof will be constructive, such that we could use the set of unitaries that emerges from this analysis to design the neural network. The answer turns out to be yes; it will illustrate what sort of ansatz we should use for the set of unitaries in our neural network. \n",
        "\n",
        "Bear in mind that in the following analysis, we will give ourselves some advantages that aren't present when deploying the network to learn a general function; in particular we assume that we can rewire the network based on the form of the $\\ell(z)$. \n",
        "\n",
        "\n",
        "\n",
        "---\n",
        "Proof (of principle):\n",
        "\n",
        "It will suffice for us to show that there always exists a unitary $U_{\\ell}(z)$ such that when applied to the input bitstring $z$, and measured, it will always yield the correct value of $\\ell_z$. Consider the unitary \n",
        "\n",
        "\\begin{equation} \n",
        "U_{\\ell} = \\exp \\left(i \\frac{\\pi}{4} \\ell(z) X_{n+1}\\right).\n",
        "\\end{equation}\n",
        "\n",
        "Using $U_{\\ell}^{\\dagger} Y_{n+1} U_{\\ell} = \\cos(\\frac{\\pi}{2} \\ell(z)) Y_{n+1} + \\sin(\\frac{\\pi}{2} \\ell(z)) Z_{n+1}$, we have that \n",
        "\n",
        "$$\\langle z,0 | U^{\\dagger} Y_{n+1} U |z,0 \\rangle = \\sin\\left(\\frac{\\pi}{2} \\ell(z)\\right) = \\ell(z)$$\n",
        "\n",
        "since for our circuit $\\ell(z) = \\pm 1$. The L.H.S of the above equation is exactly the expectation value of the final Pauli Y-measurement in the circuit which has been applied to the initial state $|z,0 \\rangle$. This means that the circuit model given in [Quantum Neural Network](https://drive.google.com/open?id=1KANnVZKGKtwQIkUG9RM6FPMCHFCkdAXM) -- with the parameters that would be specified by the exact form of $\\ell(z)$ -- should implement the function $\\ell(z)$ as desired.\n",
        "\n",
        "(Note that there is a sign error in Eqn 11 in the paper; this sign error goes away if we take the expectation w.r.t. $|z,0 \\rangle$ (as we have done here) instead of $|z,1 \\rangle$.)\n",
        "\n",
        "---\n",
        "\n",
        "We will focus on the task of computing subset parity for now. The task is: given a subset of the indices $1 \\ldots n$, and given a length-$n$ bitstring, what is the parity of the bits whose indices are in the subset? This is captured by the function\n",
        "\n",
        "$\\ell(z) = 1-2b(z); \\qquad b(z) = \\oplus a_j b_j$ where $a_i = 1$ if the $i$-th bit lies in the subset and $0$ otherwise, and $\\oplus$ denotes addition modulo 2. \n",
        "\n",
        "Plugging this into the functional ansatz above, it becomes clear that we need to sequentially implement the unitaries $$U_{\\ell}= \\exp \\left(i \\frac{\\pi}{4} X_{n+1}\\right) \\prod_j \\exp\\left(-i \\frac{\\pi}{2}a_j b_j X_{n+1}\\right)$$ to perfectly compute this function. Here the addition is automatically modulo two. \n",
        "\n",
        "Now we will implement this. We first define some useful functions."
      ]
    },
    {
      "metadata": {
        "id": "txA-j4l2-OkZ",
        "colab_type": "code",
        "colab": {}
      },
      "cell_type": "code",
      "source": [
        "def choose_subset(n): \n",
        "  # choose a subset of indices out of 1,...n\n",
        "  a = np.random.randint(0, high=2, size=n)\n",
        "  if np.sum(a) % 2 == 0: # make sure there's an odd number of bits in the subset\n",
        "    a[0]=1-a[0]\n",
        "  subset = []\n",
        "  for i in range(n):\n",
        "    if a[i] == 1:\n",
        "      subset+= [i] \n",
        "  return a,subset\n",
        "\n",
        "def subset_parity(subset,input_b,n):\n",
        "  # Compute the correct value of the subset parity function on an input ()0,1)-valued bitstring \n",
        "  s = sum(input_b[subset])\n",
        "  if s % 2 == 0:\n",
        "    l_z = 1.0\n",
        "  else:\n",
        "    l_z = -1.0\n",
        "  return l_z\n",
        "\n",
        "def hardwire_initial_state(b,qubits,n):\n",
        "  for i in range(n):\n",
        "    if b[i] == 1:\n",
        "      yield cirq.X(qubits[i])\n",
        "\n",
        "def measure_Y(qubit): # Make a pauli Y measurement on qubit. \n",
        "  # There's no custom function for this, so here's a hack... to measure Y, apply HS^dag then measure in computational basis\n",
        "  yield cirq.ZPowGate(exponent=1.5)(qubit),cirq.H(qubit)\n",
        "  \n",
        "  \n",
        "def compute_est(hist,num_rep,kkey):\n",
        "  # Compute the value of the NN's estimate based on measurement results\n",
        "  return (hist(key = kkey)[0]-hist(key = kkey)[1])/num_rep\n",
        "\n",
        "def mod2pi(theta): \n",
        "  #display values of theta within the range [-pi,pi]\n",
        "  new_theta = np.tile(0.0,len(theta))\n",
        "  for i in range(len(theta)):\n",
        "    a = theta[i] % (2*np.pi)\n",
        "    if np.pi<a<2*np.pi:\n",
        "      a = a - 2*np.pi\n",
        "    new_theta[i] = a\n",
        "  return new_theta"
      ],
      "execution_count": 0,
      "outputs": []
    },
    {
      "metadata": {
        "id": "ZhcAnLYkqo2M",
        "colab_type": "code",
        "outputId": "d9f659f9-1966-4454-dbc7-4a841cc04fab",
        "colab": {
          "base_uri": "https://localhost:8080/",
          "height": 272
        }
      },
      "cell_type": "code",
      "source": [
        "# Number of operational qubits (not including readout qubit)\n",
        "n = 4\n",
        "\n",
        "print('We will now see a circuit that implements the subset parity function on ', str(n), ' qubits exactly')\n",
        "\n",
        "# Add another readout qubit\n",
        "length = n+1 \n",
        "\n",
        "# Number of times we will run the circuit to get ONE estimate for l(z) on a given input string\n",
        "num_rep = 200 \n",
        "\n",
        "# choose a subset of indices\n",
        "a,subset = choose_subset(n)\n",
        "print('The chosen subset consists of the following indices less than', n, ': ', subset)\n",
        "\n",
        "# Wire up the circuit \n",
        "demo_circuit = cirq.Circuit()\n",
        "\n",
        "# The input is a bitstring b\n",
        "b = np.random.randint(0, high=2, size=n)\n",
        "print('The input bitstring is ', b)\n",
        "\n",
        "# Compute the correct value of the subset parity function\n",
        "l_z = subset_parity(subset,b,n)\n",
        "print('The correct label, or value of subset parity, on this example, is', l_z)\n",
        "\n",
        "# hardwire the initial state. We will not be using an auxiliary qubit in this computation, so the last (nth) qubit is the readout qubit. \n",
        "qubits = [cirq.GridQubit(i,0) for i in range(length-1)]\n",
        "readout = cirq.GridQubit(length-1, 0)\n",
        "demo_circuit.append([hardwire_initial_state(b,qubits,n)])\n",
        "demo_circuit.append([cirq.Rx(-np.pi/2)(readout)])\n",
        "\n",
        "# Now add controlled rotations\n",
        "for i in range(n):\n",
        "  cX = cirq.ControlledGate(cirq.Rx(-np.pi*a[i]))\n",
        "  demo_circuit.append([cX(qubits[i],readout)])\n",
        "\n",
        "# Put in the Y measurement. \n",
        "demo_circuit.append([measure_Y(readout),cirq.measure(readout, key='demo')])\n",
        "print('The circuit that computes subset parity *exactly* is')\n",
        "print(demo_circuit)\n",
        "\n",
        "# Let's run this circuit\n",
        "demo_results = simulator.run(demo_circuit,repetitions=num_rep)\n",
        "estimate = compute_est(demo_results.histogram,num_rep,'demo')\n",
        "print('Computed value of function: ', estimate)"
      ],
      "execution_count": 0,
      "outputs": [
        {
          "output_type": "stream",
          "text": [
            "We will now see a circuit that implements the subset parity function on  4  qubits exactly\n",
            "The chosen subset consists of the following indices less than 4 :  [0, 1, 3]\n",
            "The input bitstring is  [1 0 1 1]\n",
            "The correct label, or value of subset parity, on this example, is 1.0\n",
            "The circuit that computes subset parity *exactly* is\n",
            "(0, 0): ───X───────────────@─────────────────────────────────────────────────────────────\n",
            "                           │\n",
            "(1, 0): ───────────────────┼────────@────────────────────────────────────────────────────\n",
            "                           │        │\n",
            "(2, 0): ───X───────────────┼────────┼────────@───────────────────────────────────────────\n",
            "                           │        │        │\n",
            "(3, 0): ───X───────────────┼────────┼────────┼───────────@───────────────────────────────\n",
            "                           │        │        │           │\n",
            "(4, 0): ───────Rx(-0.5π)───Rx(-π)───Rx(-π)───Rx(-0.0π)───Rx(-π)───S^-1───H───M('demo')───\n",
            "Computed value of function:  1.0\n"
          ],
          "name": "stdout"
        }
      ]
    },
    {
      "metadata": {
        "id": "CqVzUx4EbvUB",
        "colab_type": "text"
      },
      "cell_type": "markdown",
      "source": [
        "# Part II: Learning\n",
        "\n",
        "Now we will make a quantum neural network that learns the optimal values of the parameters for the subset parity problem.   \n",
        "\n",
        "Our ansatz will be the following unitary with $n$ parameters $\\vec{\\theta} = (\\theta_1, \\ldots \\theta_n)$:\n",
        "\n",
        "$$U(\\vec{\\theta}) = \\exp \\left(i \\frac{\\pi}{4} X_{n+1}\\right) \\exp\\left(-i \\sum_j \\theta_j b_j X_{n+1}\\right)$$\n",
        "\n",
        "Note that the second term here, $\\exp\\left(-i \\sum_j \\theta_j b_j X_{n+1}\\right)$, depends on the value of the bits $b_i$. This can be implemented as a concatenation of controlled unitaries of the form $\\exp\\left(-i \\theta_j b_j X_{n+1}\\right)$, controlled by the $j$-th bit and acting on the $n+1$-st, or readout, qubit. Recalling that the label function to be learned is $\\ell(z) = 1-2b(z); \\qquad b(z) = \\oplus a_j b_j$, we may observe that this ansatz is pretty much in the same form as the optimal unitary $U_{\\ell}$ in the previous section. Indeed, setting $\\theta_i = \\frac{\\pi}{2} a_i$, we recover the previous 'ideal' circuit. That is,\n",
        "\n",
        "**The optimal value of the parameters is $\\theta_i = \\frac{\\pi}{2}$ for $i$ included in the subset, and $\\theta_i = 0$ otherwise.**\n",
        "\n",
        "--- \n",
        "\n",
        "## Computing the derivative of the loss\n",
        "\n",
        "The loss function we are using is $$1-\\ell(z) \\langle z,1 | U^{\\dagger}(\\vec{\\theta}) Y_{n+1} U(\\vec{\\theta}) |z,1 \\rangle $$ where $\\langle z,1 | U^{\\dagger}(\\vec{\\theta}) Y_{n+1} U(\\vec{\\theta}) |z,1 \\rangle$ is the value of the neural network's current estimate bounded between $-1$ and $1$. Hence, if the neural network is giving the correct estimate, its loss should be zero which is also the minimum value of the loss; the maximum is two. \n",
        "\n",
        "In order to backpropagate, we need to estimate the derivative of the loss against the relevant parameter. The paper suggested two methods to do so; the first involves a finite-difference estimate of the gradient; and the second is semi-analytic, deriving an expression for the gradient in terms of an expected value of some function of the circuit unitaries (incidentally, their expression is missing some terms...), and then running the circuit to evaluate this expected value.\n",
        "\n",
        "We go a step further and derive a fully analytic expression for the gradient of the loss function, which we then compute and use immediately in backpropagation. "
      ]
    },
    {
      "metadata": {
        "id": "h_Sy2IhE8QbC",
        "colab_type": "text"
      },
      "cell_type": "markdown",
      "source": [
        "## Method #1: Fully Analytic\n",
        "\n",
        "$$Loss(\\vec{\\theta},z) = 1-\\ell(z) \\langle z,0 | U^{\\dagger}(\\vec{\\theta}) Y_{n+1} U(\\vec{\\theta}) |z,0 \\rangle $$\n",
        "\n",
        "For our subset parity ansatz, $$U(\\vec{\\theta}) = \\exp \\left(i \\frac{\\pi}{4} X_{n+1}\\right) \\exp\\left(-i \\sum_{j=1}^L \\theta_j b_j X_{n+1}\\right) = e^{i \\frac{\\pi}{4}X} \\prod_{j=1}^L U^{(j)}$$\n",
        "\n",
        "where $ U^{(j)} \\triangleq \\exp\\left(-i \\theta_j b_j X_{n+1}\\right)$ and the vector of parameters to be adjusted is $\\vec{\\theta} = (\\theta_1, \\ldots \\theta_L)$.\n",
        "\n",
        "\\begin{equation}\n",
        "\\begin{split}\n",
        "\\frac{\\partial{Loss(\\vec{\\theta},z)}}{\\partial{\\theta_k}} & = -\\ell(z) \\left[ \\langle z,0 | e^{-i \\frac{\\pi}{4}X} U^{(1)\\dagger} \\ldots \\left(i  b_k X U^{(k)\\dagger}\\right) \\ldots U^{(L)\\dagger} Y U^{(L)} \\ldots U^{(1)} e^{i \\frac{\\pi}{4}X}  |z,0 \\rangle \\\\ \n",
        "+ \\langle z,0 | e^{-i \\frac{\\pi}{4}X} U^{(1)\\dagger}\\ldots U^{(k)\\dagger} YU^{(L)} \\ldots \\left(-i  b_k X U^{(k)} \\right) \\ldots U^{(1)} e^{i \\frac{\\pi}{4}X} |z,0 \\rangle \\right] \n",
        "\\end{split}\n",
        "\\end{equation}\n",
        "\n",
        "where all $X, Y$ are Pauli operators acting on the $(n+1)-th$ (readout) qubit. \n",
        "\n",
        "Defining $\\tilde{U}(\\vec{\\theta}) = e^{-i \\frac{\\pi}{4}X} U^{(1)\\dagger}\\ldots U^{(k)\\dagger} YX U^{(L)} \\ldots U^{(1)} e^{i \\frac{\\pi}{4}X}$ (note here the $X $ is on the right of the $Y$) we may re-write the above equation:\n",
        "\n",
        "\\begin{equation} \n",
        "\\begin{split}\n",
        "\\frac{\\partial{Loss(\\vec{\\theta},z)}}{\\partial{\\theta_k}} &= \\left(-i b_k \\ell(z) \\right) \\left[ \\langle z,0 |\\tilde{U}(\\vec{\\theta})  |z,0 \\rangle^{\\dagger} - \\langle z,0 |\\tilde{U}(\\vec{\\theta})  |z,0 \\rangle \\right]\\\\\n",
        "&= - 2 \\ell(z) b_k Im(\\langle z,0 |\\tilde{U}(\\vec{\\theta})  |z,0 \\rangle)\n",
        "\\end{split}\n",
        "\\end{equation}\n",
        "\n",
        "Going beyond the paper, we are able to calculate this exactly. In analogy to our previous definition, we may now define \n",
        "$$U_{\\hat{\\ell}} = \\exp \\left(i \\frac{\\pi}{4} X_{n+1}\\right) \\prod_j \\exp\\left(-i \\theta_j b_j X_{n+1}\\right) $$ where the equivalent `label function' on untuned parameters is now $\\hat{\\ell}(z) \\triangleq \\frac{1-\\vec{\\theta}\\cdot \\vec{b}}{\\pi/4}$. After some algebra,\n",
        "\n",
        "$\\tilde{U}(\\vec{\\theta}) = U_{\\hat{\\ell}}(\\vec{\\theta})Y_{n+1} X_{n+1} U_{\\hat{\\ell}}(\\vec{\\theta}) = i \\left(-\\cos(\\frac{\\pi}{2} {\\hat{\\ell}(z)}) Z_{n+1} + \\sin(\\frac{\\pi}{2} {\\hat{\\ell}(z)}) Y_{n+1} \\right)$\n",
        "\n",
        "and therefore \n",
        "\\begin{equation}\n",
        "\\begin{split}\n",
        "\\frac{\\partial{Loss(\\vec{\\theta},z)}}{\\partial{\\theta_k}}  &= - 2 \\ell(z) b_k Im(\\langle z,0 |\\tilde{U}(\\vec{\\theta})  |z,0 \\rangle) \\\\\n",
        "& = 2\\ell(z) b_k \\cos \\left(\\frac{\\pi}{2} {\\hat{\\ell}}(z)\\right) \n",
        "\\end{split}\n",
        "\\end{equation}\n",
        "\n",
        "\n",
        "Here $\\ell(z)$ retains its meaning as the label function we want to compute, $\\ell(z) = 1-2\\oplus a_j b_j$ where $\\oplus$ denotes bitwise addition. $\\hat{\\ell}(z)$ is to be interpreted as the function that the neural network is implementing with its yet-to-be-optimized parameters. "
      ]
    },
    {
      "metadata": {
        "id": "2es8KSDTXcbz",
        "colab_type": "code",
        "colab": {}
      },
      "cell_type": "code",
      "source": [
        "# First we refactor the above code for running the neural network on each input string, and add code for partitioning examples into train examples and test examples. \n",
        "\n",
        "def one_input(b, theta, kkey, n):  \n",
        "  # wire up the circuit for a single input. The circuit depends on the input because I am literally applying X's to initialize bits to |1> (by default all bits are initialized to |0>)\n",
        "  \n",
        "  # hardwire the initial state\n",
        "  qubits = [cirq.GridQubit(i,0) for i in range(length-1)]\n",
        "  readout = cirq.GridQubit(length-1, 0)\n",
        "  yield hardwire_initial_state(b,qubits,n)\n",
        "  yield cirq.Rx(-np.pi/2)(readout)\n",
        "  \n",
        "  # Now add controlled rotations, one for every qubit in the input with the parameter theta_j\n",
        "  for i in range(n):\n",
        "    cX = cirq.ControlledGate(cirq.Rx(2*theta[i]))\n",
        "    yield cX(qubits[i],readout)\n",
        "\n",
        "  # Put in the Y measurement. \n",
        "  yield measure_Y(readout)\n",
        "  yield cirq.measure(readout, key = kkey)\n",
        "\n",
        "def generate_examples(n):\n",
        "  # Generate an instance of the problem: generate the subset, and the labelled examples (both train and test sets)\n",
        "  \n",
        "  # Choose the subset\n",
        "  a,subset = choose_subset(n)\n",
        "\n",
        "  # Initialize all possible inputs. These will be divided into test and training examples respectively. \n",
        "  all_states = [[int(j) for j in list(np.binary_repr(i,width = n))] for i in np.arange(2**n)]\n",
        "  random.shuffle(all_states)\n",
        "  num_test = int(math.floor(len(all_states)/5.0)) #80/20 train/test split (since we're talking small numbers of qubits here)\n",
        "  num_train = len(all_states)-num_test\n",
        "  \n",
        "  test_examples = []\n",
        "  test_labels = []\n",
        "  for i in range(num_test):\n",
        "    test_examples.extend([all_states[i]])\n",
        "    bb = np.array(all_states[i])\n",
        "    test_labels.extend([subset_parity(subset,bb,n)])\n",
        "    \n",
        "  train_examples = []\n",
        "  train_labels = []\n",
        "  for i in range(num_train):\n",
        "    bb = np.array(all_states[i+num_test])\n",
        "    train_examples.extend([all_states[i+num_test]])\n",
        "  train_examples = np.tile(train_examples,(5,1)) \n",
        "  random.shuffle(train_examples)\n",
        "  for i in range(len(train_examples)):\n",
        "    bb = np.array(train_examples[i])\n",
        "    train_labels.extend([subset_parity(subset,bb,n)])\n",
        "    \n",
        "  return subset, train_examples, train_labels, test_examples, test_labels\n",
        "\n",
        "\n",
        "# Define a function that uses our fully analytic expression to exactly computes the gradient of the loss\n",
        "def exact_grad_subsetparity(bb, l_z, theta):\n",
        "  dloss = np.zeros(len(bb))\n",
        "  for i in range(len(bb)):\n",
        "    bk = bb[i]\n",
        "    if bk == 1:\n",
        "      lhat = 1-np.dot(theta,bb)/(np.pi/4) \n",
        "      dloss[i] = 2*l_z*np.cos(np.pi/2* lhat)\n",
        "  return dloss"
      ],
      "execution_count": 0,
      "outputs": []
    },
    {
      "metadata": {
        "id": "tzjUPHBmwc1L",
        "colab_type": "text"
      },
      "cell_type": "markdown",
      "source": [
        "Comment: Ideally I would not have to re-wire up the circuit with new parameters every time I changed the parameters, but rather, be able to pass in changed values of parameters to some symbolic placeholder. Actually, there is already such a function in Cirq called param_resolver, BUT THERE IS A BUG in its implementation of symbolic linear algebra. This bug comes up even when I run the Cirq tutorial code as-is, whether in Python 2 or Python 3. Therefore I am doing the naive thing as you can see below. "
      ]
    },
    {
      "metadata": {
        "colab_type": "code",
        "id": "9FFLwalBk5Fx",
        "outputId": "8fbee835-0c37-44d8-dde5-2a98871f9390",
        "colab": {
          "base_uri": "https://localhost:8080/",
          "height": 34
        }
      },
      "cell_type": "code",
      "source": [
        "# Train\n",
        "\n",
        "np.random.seed(0)\n",
        "\n",
        "# Set the fixed params\n",
        "r = 0.2 # learning rate\n",
        "n = 5 #  number of qubits apart from the readout qubit\n",
        "length = n+1 # number of input qubits to the neural network (+1 is for the readout qubit)\n",
        "numrep = 1000\n",
        "\n",
        "# Randomly initialize the parameters, theta\n",
        "randvec = np.random.uniform(low=0.0, high=1.0, size=n)\n",
        "theta = mod2pi(2*np.pi*randvec)\n",
        "\n",
        "# Generate an instance of the problem\n",
        "subset, train_examples, train_labels, test_examples, test_labels = generate_examples(n) \n",
        "print('The chosen subset consists of the following indices less than', n, ': ', subset)\n",
        "\n",
        "store_loss = np.zeros(len(train_examples))\n",
        "store_theta = np.zeros((len(train_examples),n))\n",
        "\n",
        "for ii,b in enumerate(train_examples):\n",
        "  \n",
        "  bb = np.array(b)\n",
        "  l_z = train_labels[ii]\n",
        "  \n",
        "  # Wire up the circuit\n",
        "  main_circuit = cirq.Circuit()\n",
        "  kkey = 'main'\n",
        "  main_circuit.append(one_input(bb,theta,kkey,n))\n",
        "\n",
        "  # Let's run this circuit\n",
        "  main_results = simulator.run(main_circuit,repetitions=numrep)\n",
        "  loss = 1.0-l_z*compute_est(main_results.histogram, numrep, kkey)\n",
        "  store_loss[ii] = loss\n",
        "  \n",
        "  dloss = exact_grad_subsetparity(bb, l_z, theta)\n",
        "  # Update the parameters theta\n",
        "  \n",
        "  if sum(np.abs(dloss)) > 1e-8:\n",
        "    theta = theta - r*loss/(np.linalg.norm(dloss,2)**2)*dloss\n",
        "    theta = mod2pi(theta)\n",
        "  else:\n",
        "    theta = theta  \n",
        "    \n",
        "  store_theta[ii,:] = theta"
      ],
      "execution_count": 0,
      "outputs": [
        {
          "output_type": "stream",
          "text": [
            "The chosen subset consists of the following indices less than 5 :  [3]\n"
          ],
          "name": "stdout"
        }
      ]
    },
    {
      "metadata": {
        "id": "H_k8LzEz9yoW",
        "colab_type": "code",
        "outputId": "a2b0a625-d407-4e89-f8dc-4e98da4bbec1",
        "colab": {
          "base_uri": "https://localhost:8080/",
          "height": 376
        }
      },
      "cell_type": "code",
      "source": [
        "from matplotlib import pyplot as plt\n",
        "\n",
        "x = np.arange(len(train_examples))\n",
        "for i in range(n):\n",
        "  plt.plot(x,store_theta[:,i]/np.pi,label='theta_'+str(i))\n",
        "plt.plot()\n",
        "plt.legend()\n",
        "plt.xlabel('# of training examples seen')\n",
        "plt.title('Evolution of parameters through training (in units of pi)')\n",
        "plt.show()"
      ],
      "execution_count": 0,
      "outputs": [
        {
          "output_type": "display_data",
          "data": {
            "image/png": "[encoded data removed]",
            "text/plain": [
              "<Figure size 576x396 with 1 Axes>"
            ]
          },
          "metadata": {
            "tags": []
          }
        }
      ]
    },
    {
      "metadata": {
        "id": "R2qvwPGMjdWF",
        "colab_type": "text"
      },
      "cell_type": "markdown",
      "source": [
        "## Remarks\n",
        "\n",
        "Please set the random seed to 0 and choose the following parameters: $r = 0.2,  n = 5, length = n+1, numrep = 1000$ to see the following effects. \n",
        "\n",
        "(If there are large jumps in the graph from $\\pi$ to $-\\pi$, they are an artefact of the fact that we have restricted the angles to lie in the range $(-\\pi, \\pi)$, such that $\\pi+\\epsilon$ is stored as $-\\pi+\\epsilon$)\n",
        "\n",
        "Earlier, we wrote that one possible solution that always implements the function perfectly is  **$\\theta_i = \\frac{\\pi}{2}$ for $i$ included in the subset, and $\\theta_i = 0$ otherwise.**\n",
        "\n",
        "We see that the neural network has found an alternative solution: $\\theta_i = \\frac{-\\pi}{2}$ for $i$ in the subset (here $i = 3$) and $\\theta_i = \\pi = - \\pi$ otherwise. (If the above graph doesn't show these alternative solutions, run the circuit a few more times...) This is at first puzzling, as our Ansatz (i.e. the function implemented by the circuit) was \n",
        "\n",
        "$$U(\\vec{\\theta}) = \\exp\\left(i \\frac{\\pi}{4} X_{n+1}\\right) \\prod_j \\exp(-i \\theta_j b_j X_{n+1})$$\n",
        "\n",
        "and it seems that shifting our 'optimal' solution by multiples of $\\pi$, as we have done here, might yield some undesirable minus signs. \n",
        "\n",
        "However, we discovered that we can analytically work out the value of the loss even with possibly non-optimal parameters: We remind the reader of the definition of the loss\n",
        "$$Loss(\\vec{\\theta},z) \\triangleq 1-\\ell(z) \\langle z,0 | U^{\\dagger}(\\vec{\\theta}) Y_{n+1} U(\\vec{\\theta}) |z,0 \\rangle. $$ It turns out that\n",
        "$$ \\langle z,0 | U^{\\dagger}(\\vec{\\theta}) Y_{n+1} U(\\vec{\\theta}) |z,0 \\rangle = \\sin\\left(\\frac{\\pi}{2} \\left(1- \\frac{\\vec{\\theta} \\cdot \\vec{b}}{\\pi/4} \\right)\\right)$$. \n",
        "\n",
        "Since $\\vec{b}$ is a binary-valued function, the above re-writing makes it explicit that shifting our parameters by a multiple of $\\pi$ also shifts the argument of the $\\sin$ by a multiple of $2\\pi$, which makes no difference overall. With the above re-writing, we can therefore also characterize all optimal parameters of the function: \n",
        "\n",
        "**$\\theta_i = \\frac{(1+2k)\\pi}{2}$ for $i$ included in the subset, and $\\theta_i = k \\pi$ otherwise, $k \\in \\mathbb{Z}$.**\n",
        "\n",
        "Going back to our neural network, finally we evaluate our parameters on the test set. With 5 qubits there are only 32 possible input strings and with a 20/80 test/training split, only 6 examples in the test set. But one can also play around with parameters and increase the number of qubits to get more test set examples. "
      ]
    },
    {
      "metadata": {
        "id": "knwKXakzV16h",
        "colab_type": "code",
        "outputId": "bec14d90-8b78-43b4-f2f6-3e7786ab43f5",
        "colab": {
          "base_uri": "https://localhost:8080/",
          "height": 34
        }
      },
      "cell_type": "code",
      "source": [
        "# test\n",
        "\n",
        "all_loss = np.zeros(len(test_examples))\n",
        "\n",
        "for ii,b in enumerate(test_examples):\n",
        "  bb = np.array(b)\n",
        "  l_z = test_labels[ii]\n",
        "  \n",
        "  # Wire up the circuit\n",
        "  main_circuit = cirq.Circuit()\n",
        "  kkey = 'loss'\n",
        "  main_circuit.append(one_input(bb,theta,kkey,n))\n",
        "\n",
        "  # Let's run this circuit\n",
        "  main_results = simulator.run(main_circuit,repetitions=numrep)\n",
        "  loss = 1.0-l_z*compute_est(main_results.histogram, numrep, kkey)\n",
        "  all_loss[ii] = loss\n",
        "  \n",
        "av_loss = np.mean(all_loss)\n",
        "print('Average loss on test examples', av_loss)"
      ],
      "execution_count": 0,
      "outputs": [
        {
          "output_type": "stream",
          "text": [
            "Average loss on test examples 0.026333333333333358\n"
          ],
          "name": "stdout"
        }
      ]
    },
    {
      "metadata": {
        "id": "WAs0NcDh_yR9",
        "colab_type": "text"
      },
      "cell_type": "markdown",
      "source": [
        "## Method #2: Approximation\n",
        "The paper recommended another way of estimating the derivative of the loss when one cannot compute it directly: implement the following approximation: \n",
        "\n",
        "$$ \\frac{df}{dx}(x) = (f(x+\\epsilon) - f(x-\\epsilon))/(2*\\epsilon) + O(\\epsilon^2) $$\n",
        "\n",
        "The paper also says 'To estimate loss to order $\\epsilon^3$ we need of order $1/\\epsilon^6$ measurements'. Let's try this method, and see if we can get away with less. "
      ]
    },
    {
      "metadata": {
        "id": "-CFEpeMZEOhv",
        "colab_type": "code",
        "colab": {}
      },
      "cell_type": "code",
      "source": [
        "def approx_gradient(b, eps, l_z, theta, numrep_2):\n",
        "  # estimate the gradient of the loss \n",
        "  dloss = np.zeros(len(theta))\n",
        "  for i in range(len(theta)):\n",
        "    #  print('Now examining the', i, 'th component of the loss')\n",
        "      e_i = np.zeros(len(theta))\n",
        "      e_i[i] = eps\n",
        "      shifted_theta_1 = theta+e_i\n",
        "\n",
        "      circuit_1 = cirq.Circuit()\n",
        "      kkey = 'one'\n",
        "      circuit_1.append(one_input(b,shifted_theta_1,kkey,n))\n",
        "      circuit_1_results = simulator.run(circuit_1,repetitions=numrep_2)\n",
        "      est_1 = compute_est(circuit_1_results.histogram, numrep_2, kkey)\n",
        "      loss_1 = 1.0-l_z*est_1\n",
        "\n",
        "      shifted_theta_2 = theta-e_i\n",
        "      circuit_2 = cirq.Circuit()\n",
        "      kkey = 'two'\n",
        "      circuit_2.append(one_input(b,shifted_theta_2,kkey,n))\n",
        "      circuit_2_results = simulator.run(circuit_2,repetitions=numrep_2)\n",
        "      est_2 = compute_est(circuit_2_results.histogram, numrep_2,kkey)\n",
        "      loss_2 = 1.0-l_z*est_2\n",
        "\n",
        "      dloss[i] = (loss_1 - loss_2)/(2*eps) \n",
        "    \n",
        "  return dloss"
      ],
      "execution_count": 0,
      "outputs": []
    },
    {
      "metadata": {
        "id": "wzHsWWRRz65m",
        "colab_type": "code",
        "outputId": "b3abb448-f9f7-4596-91f1-65ef5a81a7b7",
        "colab": {
          "base_uri": "https://localhost:8080/",
          "height": 379
        }
      },
      "cell_type": "code",
      "source": [
        "# Train\n",
        "\n",
        "\n",
        "# Set the fixed params\n",
        "r = 0.2 # learning rate\n",
        "n = 5 #  number of qubits apart from the readout qubit\n",
        "length = n+1 # number of input qubits to the neural network (+1 is for the readout qubit)\n",
        "eps = 1e-1\n",
        "numrep = 1000\n",
        "numrep_2 = 1000\n",
        "\n",
        "# Randomly initialize the parameters, theta\n",
        "randvec = np.random.uniform(low=0.0, high=1.0, size=n)\n",
        "theta = mod2pi(2*np.pi*randvec)\n",
        "\n",
        "# Generate an instance of the problem\n",
        "subset, train_examples, train_labels, test_examples, test_labels = generate_examples(n) \n",
        "print('The chosen subset consists of the following indices less than', n, ': ', subset)\n",
        "\n",
        "store_loss = np.zeros(len(train_examples))\n",
        "store_theta = np.zeros((len(train_examples),n))\n",
        "\n",
        "for ii,b in enumerate(train_examples):\n",
        "  \n",
        "  bb = np.array(b)\n",
        "  l_z = train_labels[ii]\n",
        "  \n",
        "  # Wire up the circuit\n",
        "  main_circuit = cirq.Circuit()\n",
        "  kkey = 'main'\n",
        "  main_circuit.append(one_input(bb,theta,kkey,n))\n",
        "\n",
        "  # Let's run this circuit\n",
        "  main_results = simulator.run(main_circuit,repetitions=numrep)\n",
        "  loss = 1.0-l_z*compute_est(main_results.histogram, numrep, kkey)\n",
        "  store_loss[ii] = loss\n",
        "  \n",
        "  # Compute the gradient of the loss\n",
        "  dloss = approx_gradient(b,eps,l_z,theta,numrep_2)\n",
        "  \n",
        "  # Update the parameters theta\n",
        "  \n",
        "  if sum(np.abs(dloss)) > 1e-8:\n",
        "    theta = theta - r*loss/(np.linalg.norm(dloss,2)**2)*dloss\n",
        "    theta = mod2pi(theta)\n",
        "  else:\n",
        "    theta = theta  \n",
        "    \n",
        "  store_theta[ii,:] = theta\n",
        "  \n",
        "x = np.arange(len(train_examples))\n",
        "for i in range(n):\n",
        "  plt.plot(x,store_theta[:,i]/np.pi,label='theta_'+str(i))\n",
        "plt.plot()\n",
        "plt.legend()\n",
        "plt.xlabel('# of training examples seen')\n",
        "plt.title('Evolution of parameters through training (in units of pi)')\n",
        "plt.show()"
      ],
      "execution_count": 0,
      "outputs": [
        {
          "output_type": "stream",
          "text": [
            "The chosen subset consists of the following indices less than 5 :  [0, 1, 4]\n"
          ],
          "name": "stdout"
        },
        {
          "output_type": "display_data",
          "data": {
            "image/png": "[encoded data removed]",
            "text/plain": [
              "<Figure size 576x396 with 1 Axes>"
            ]
          },
          "metadata": {
            "tags": []
          }
        }
      ]
    },
    {
      "metadata": {
        "id": "TuoLfUrukCHT",
        "colab_type": "code",
        "outputId": "4819a823-deae-42a9-f043-77a0f570a1a2",
        "colab": {
          "base_uri": "https://localhost:8080/",
          "height": 34
        }
      },
      "cell_type": "code",
      "source": [
        "# test\n",
        "\n",
        "all_loss = np.zeros(len(test_examples))\n",
        "\n",
        "for ii,b in enumerate(test_examples):\n",
        "  bb = np.array(b)\n",
        "  l_z = test_labels[ii]\n",
        "  \n",
        "  # Wire up the circuit\n",
        "  main_circuit = cirq.Circuit()\n",
        "  kkey = 'loss'\n",
        "  main_circuit.append(one_input(bb,theta,kkey,n))\n",
        "\n",
        "  # Let's run this circuit\n",
        "  main_results = simulator.run(main_circuit,repetitions=numrep)\n",
        "  loss = 1.0-l_z*compute_est(main_results.histogram, numrep, kkey)\n",
        "  all_loss[ii] = loss\n",
        "  \n",
        "av_loss = np.mean(all_loss)\n",
        "print('Average loss on test examples', av_loss)"
      ],
      "execution_count": 0,
      "outputs": [
        {
          "output_type": "stream",
          "text": [
            "Average loss on test examples 0.159\n"
          ],
          "name": "stdout"
        }
      ]
    },
    {
      "metadata": {
        "id": "CvA_1aZwpUwo",
        "colab_type": "text"
      },
      "cell_type": "markdown",
      "source": [
        "Clearly this method of approximating the gradient also works, but at a cost in terms of circuit evaluations:\n",
        "\n",
        "**Number of circuit evaluations**\n",
        "\n",
        "**Method 1 (fully analytic derivation of loss gradient):**  `num_training_examples` \n",
        "\n",
        "**Method 2 (from paper) (approximate the loss gradient): ** (2 $\\times$ `num_rep_2` $\\times$+1) `num_training_examples` \n",
        "\n",
        "Method 2 also seems to produce smoother evolutions of the parameters, but I'm not sure why. There is another method proposed in the paper which is to derive a semi-analytic expression for the loss gradient and then estimate it by running the circuit, but as we already had an expression for loss gradient, we didn't test this. \n",
        "\n",
        "## Optimization of learning rate\n",
        "\n",
        "Finally, we optimize the hyperparameter 'r'. We use Method #1 for this as it is much faster. Here we will also be using a validation set to optimize the hyperparameter on. "
      ]
    },
    {
      "metadata": {
        "id": "UFDVm-HLx6Xg",
        "colab_type": "code",
        "colab": {}
      },
      "cell_type": "code",
      "source": [
        "def generate_examples_w_validation(n):\n",
        "  # Generate an instance of the problem: generate the subset, and the labelled examples (train,test,validation sets)\n",
        "  \n",
        "  # Choose the subset\n",
        "  a,subset = choose_subset(n)\n",
        "\n",
        "  # Initialize all possible inputs. These will be divided into test and training examples respectively. \n",
        "  all_states = [[int(j) for j in list(np.binary_repr(i,width = n))] for i in np.arange(2**n)]\n",
        "  random.shuffle(all_states)\n",
        "  num_test = int(math.floor(len(all_states)/10.0)) #80/10/10 train/validation/test split \n",
        "  num_validation = int(math.floor(len(all_states)/10.0)) #80/10/10 train/validation/test split \n",
        "  num_train = len(all_states)-num_test-num_validation\n",
        "  \n",
        "  validation_examples = []\n",
        "  validation_labels = []\n",
        "  for i in range(num_validation):\n",
        "    validation_examples.extend([all_states[i]])\n",
        "    bb = np.array(all_states[i])\n",
        "    validation_labels.extend([subset_parity(subset,bb,n)])\n",
        "    \n",
        "  test_examples = []\n",
        "  test_labels = []\n",
        "  for i in range(num_test):\n",
        "    test_examples.extend([all_states[i+num_validation]])\n",
        "    bb = np.array(all_states[i+num_validation])\n",
        "    test_labels.extend([subset_parity(subset,bb,n)])\n",
        "    \n",
        "  train_examples = []\n",
        "  train_labels = []\n",
        "  for i in range(num_train):\n",
        "    bb = np.array(all_states[i+num_test+num_validation])\n",
        "    train_examples.extend([all_states[i+num_test+num_validation]])\n",
        "  train_examples = np.tile(train_examples,(3,1)) \n",
        "  random.shuffle(train_examples)\n",
        "  for i in range(len(train_examples)):\n",
        "    bb = np.array(train_examples[i])\n",
        "    train_labels.extend([subset_parity(subset,bb,n)])\n",
        "    \n",
        "  return subset, train_examples, train_labels, test_examples, test_labels, validation_examples, validation_labels"
      ],
      "execution_count": 0,
      "outputs": []
    },
    {
      "metadata": {
        "id": "M_-GSx8dpw9e",
        "colab_type": "code",
        "outputId": "5ea27f65-eb5b-40c9-c9fe-d7d3779850c4",
        "colab": {
          "base_uri": "https://localhost:8080/",
          "height": 68
        }
      },
      "cell_type": "code",
      "source": [
        "r_list = np.exp(np.linspace(-5,0,10))\n",
        "v_loss = np.zeros(len(r_list))\n",
        "store_theta = np.zeros((len(r_list),n))\n",
        "                \n",
        "n = 8 #  number of qubits apart from the readout qubit\n",
        "length = n+1 # number of input qubits to the neural network (+1 is for the readout qubit)\n",
        "numrep = 1000\n",
        "\n",
        "# Randomly initialize the parameters, theta\n",
        "randvec = np.random.uniform(low=0.0, high=1.0, size=n)\n",
        "theta = mod2pi(2*np.pi*randvec)\n",
        "\n",
        "# Generate an instance of the problem\n",
        "subset, train_examples, train_labels, test_examples, test_labels, v_examples, v_labels = generate_examples_w_validation(n) \n",
        "print('The chosen subset consists of the following indices less than', n, ': ', subset)\n",
        "\n",
        "for j,r in enumerate(r_list):\n",
        "  # Train\n",
        "  for ii,b in enumerate(train_examples):\n",
        "\n",
        "    bb = np.array(b)\n",
        "    l_z = train_labels[ii]\n",
        "\n",
        "    # Wire up the circuit\n",
        "    main_circuit = cirq.Circuit()\n",
        "    kkey = 'main'\n",
        "    main_circuit.append(one_input(bb,theta,kkey,n))\n",
        "\n",
        "    # Let's run this circuit\n",
        "    main_results = simulator.run(main_circuit,repetitions=numrep)\n",
        "    loss = 1.0-l_z*compute_est(main_results.histogram, numrep, kkey)\n",
        "\n",
        "    dloss = exact_grad_subsetparity(bb, l_z, theta)\n",
        "    # Update the parameters theta\n",
        "\n",
        "    if sum(np.abs(dloss)) > 1e-8:\n",
        "      theta = theta - r*loss/(np.linalg.norm(dloss,2)**2)*dloss\n",
        "      theta = mod2pi(theta)\n",
        "    else:\n",
        "      theta = theta  \n",
        "\n",
        "  store_theta[j,:] = theta\n",
        "    \n",
        "  # Look at performance on validation set\n",
        "  all_loss = np.zeros(len(v_examples))\n",
        "\n",
        "  for ii,b in enumerate(v_examples):\n",
        "    bb = np.array(b)\n",
        "    l_z = v_labels[ii]\n",
        "\n",
        "    # Wire up the circuit\n",
        "    main_circuit = cirq.Circuit()\n",
        "    kkey = 'validate'\n",
        "    main_circuit.append(one_input(bb,theta,kkey,n))\n",
        "\n",
        "    # Let's run this circuit\n",
        "    main_results = simulator.run(main_circuit,repetitions=numrep)\n",
        "    loss = 1.0-l_z*compute_est(main_results.histogram, numrep, kkey)\n",
        "    all_loss[ii] = loss\n",
        "\n",
        "  v_loss[j] = np.mean(all_loss)\n",
        "  \n",
        "val, idx = min((val, idx) for (idx, val) in enumerate(v_loss))\n",
        "print('The value of r that performed best on the validation set is',r_list[idx], 'achieving a loss of', val)"
      ],
      "execution_count": 0,
      "outputs": [
        {
          "output_type": "stream",
          "text": [
            "The chosen subset consists of the following indices less than 8 :  [0, 2, 3, 4, 5, 6, 7]\n",
            "0.32919298780790573\n",
            "The value of r that performed best on the validation set is None achieving a loss of 0.0\n"
          ],
          "name": "stdout"
        }
      ]
    },
    {
      "metadata": {
        "id": "NkFxfwZXu5Pc",
        "colab_type": "code",
        "outputId": "62eba012-9fb5-43a2-9403-885e85692fb3",
        "colab": {
          "base_uri": "https://localhost:8080/",
          "height": 34
        }
      },
      "cell_type": "code",
      "source": [
        "# Run on test set\n",
        "\n",
        "r_best = r_list[idx]\n",
        "theta = store_theta[idx,:]\n",
        "\n",
        "all_loss = np.zeros(len(test_examples))\n",
        "\n",
        "for ii,b in enumerate(test_examples):\n",
        "  bb = np.array(b)\n",
        "  l_z = test_labels[ii]\n",
        "  \n",
        "  # Wire up the circuit\n",
        "  main_circuit = cirq.Circuit()\n",
        "  kkey = 'loss'\n",
        "  main_circuit.append(one_input(bb,theta,kkey,n))\n",
        "\n",
        "  # Let's run this circuit\n",
        "  main_results = simulator.run(main_circuit,repetitions=numrep)\n",
        "  loss = 1.0-l_z*compute_est(main_results.histogram, numrep, kkey)\n",
        "  all_loss[ii] = loss\n",
        "  \n",
        "av_loss = np.mean(all_loss)\n",
        "print('Average loss on test examples', av_loss)"
      ],
      "execution_count": 0,
      "outputs": [
        {
          "output_type": "stream",
          "text": [
            "Average loss on test examples 0.0\n"
          ],
          "name": "stdout"
        }
      ]
    },
    {
      "metadata": {
        "id": "FP55zLcVIh7y",
        "colab_type": "text"
      },
      "cell_type": "markdown",
      "source": [
        "With this hyperparameter choice, we have computed the subset parity function perfectly!"
      ]
    }
  ]
}